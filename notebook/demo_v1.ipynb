{
 "cells": [
  {
   "cell_type": "markdown",
   "metadata": {
    "slideshow": {
     "slide_type": "slide"
    }
   },
   "source": [
    "## Content\n",
    "\n",
    "* What is Python??\n",
    "* Python basics\n",
    "    * Data structure\n",
    "    * Pandas dataframe\n",
    "    * Function and Class definition\n",
    "    * Package manager and environments\n",
    "* File Input/Ouput\n",
    "* Database connection\n",
    "* Web datacrawling\n",
    "* Data visualization\n",
    "* Model fitting"
   ]
  },
  {
   "cell_type": "markdown",
   "metadata": {
    "slideshow": {
     "slide_type": "slide"
    }
   },
   "source": [
    "## 0. What is Python??"
   ]
  },
  {
   "cell_type": "markdown",
   "metadata": {
    "slideshow": {
     "slide_type": "slide"
    }
   },
   "source": [
    "### 0.1. In brief"
   ]
  },
  {
   "cell_type": "markdown",
   "metadata": {
    "slideshow": {
     "slide_type": "-"
    }
   },
   "source": [
    "* High-level programming language for general-purpose programming\n",
    "* Supports multiple programming paradigms\n",
    "    * Object-oriented\n",
    "    * Functional\n",
    "    * ...\n",
    "* Easy interface with other languages, such as C++/Java\n",
    "* A large and comprehensive standard library\n",
    "* Not so fast though …"
   ]
  },
  {
   "cell_type": "markdown",
   "metadata": {
    "slideshow": {
     "slide_type": "slide"
    }
   },
   "source": [
    "![title](../pics/history.png)"
   ]
  },
  {
   "cell_type": "markdown",
   "metadata": {
    "slideshow": {
     "slide_type": "slide"
    }
   },
   "source": [
    "### 0.2. The eco-system\n",
    "\n",
    "![title](../pics/ecosystem.png)"
   ]
  },
  {
   "cell_type": "markdown",
   "metadata": {
    "slideshow": {
     "slide_type": "slide"
    }
   },
   "source": [
    "### 0.3. Python 2 vs. Python 3"
   ]
  },
  {
   "cell_type": "code",
   "execution_count": null,
   "metadata": {
    "scrolled": true
   },
   "outputs": [],
   "source": [
    "from IPython.display import IFrame\n",
    "IFrame('https://pythonclock.org/', width=700, height=200)"
   ]
  },
  {
   "cell_type": "markdown",
   "metadata": {
    "slideshow": {
     "slide_type": "slide"
    }
   },
   "source": [
    "### 0.4. IDE\n",
    "(picture source: https://www.datacamp.com/community/tutorials/tutorial-jupyter-notebook)\n",
    "\n",
    "* Jupyter Notebook/Jupyter Lab(beta)\n",
    "![title](../pics/jupyternotebook.gif)"
   ]
  },
  {
   "cell_type": "markdown",
   "metadata": {
    "slideshow": {
     "slide_type": "slide"
    }
   },
   "source": [
    "* Visual Studio Code\n",
    "(picture source: https://code.visualstudio.com/docs/python/editing)\n",
    "![title](../pics/vscode.gif)\n",
    "* PyCharm\n",
    "* Spyder\n",
    "* Atom\n",
    "* ..."
   ]
  },
  {
   "cell_type": "markdown",
   "metadata": {
    "slideshow": {
     "slide_type": "slide"
    }
   },
   "source": [
    "### 0.5. Prerequisite\n",
    "\n",
    "In order to run the following code\n",
    "* Anaconda (recommended) (https://www.anaconda.com/distribution/)\n",
    "* Library list included (requirements.txt)\n",
    "\n",
    "In order to run the notebook in presentation mode\n",
    "* RISE extension to jupyter notebook (https://github.com/damianavila/RISE)"
   ]
  },
  {
   "cell_type": "markdown",
   "metadata": {
    "slideshow": {
     "slide_type": "slide"
    }
   },
   "source": [
    "## 1. Python Basics\n",
    "\n",
    "### 1.1 Data structures"
   ]
  },
  {
   "cell_type": "markdown",
   "metadata": {
    "slideshow": {
     "slide_type": "fragment"
    }
   },
   "source": [
    "* Variable definition"
   ]
  },
  {
   "cell_type": "code",
   "execution_count": null,
   "metadata": {
    "slideshow": {
     "slide_type": "fragment"
    }
   },
   "outputs": [],
   "source": [
    "a = 123\n",
    "print(a)"
   ]
  },
  {
   "cell_type": "markdown",
   "metadata": {
    "slideshow": {
     "slide_type": "slide"
    }
   },
   "source": [
    "* Iterables:"
   ]
  },
  {
   "cell_type": "code",
   "execution_count": null,
   "metadata": {
    "slideshow": {
     "slide_type": "-"
    }
   },
   "outputs": [],
   "source": [
    "# list\n",
    "a = [1, 'a', 3]\n",
    "a"
   ]
  },
  {
   "cell_type": "code",
   "execution_count": null,
   "metadata": {},
   "outputs": [],
   "source": [
    "a[1]"
   ]
  },
  {
   "cell_type": "code",
   "execution_count": null,
   "metadata": {},
   "outputs": [],
   "source": [
    "a.append(4) ## append values to the list\n",
    "a"
   ]
  },
  {
   "cell_type": "code",
   "execution_count": null,
   "metadata": {
    "slideshow": {
     "slide_type": "slide"
    }
   },
   "outputs": [],
   "source": [
    "# Set\n",
    "a = {1,2,3}\n",
    "b = {2,3,4}\n",
    "print(a)\n",
    "print(b)"
   ]
  },
  {
   "cell_type": "code",
   "execution_count": null,
   "metadata": {},
   "outputs": [],
   "source": [
    "a.update([5,6,7]) ## append values\n",
    "a"
   ]
  },
  {
   "cell_type": "code",
   "execution_count": null,
   "metadata": {},
   "outputs": [],
   "source": [
    "a - b"
   ]
  },
  {
   "cell_type": "code",
   "execution_count": null,
   "metadata": {},
   "outputs": [],
   "source": [
    "b - a"
   ]
  },
  {
   "cell_type": "code",
   "execution_count": null,
   "metadata": {},
   "outputs": [],
   "source": [
    "a&b ## intersection"
   ]
  },
  {
   "cell_type": "code",
   "execution_count": null,
   "metadata": {},
   "outputs": [],
   "source": [
    "a|b ## union"
   ]
  },
  {
   "cell_type": "code",
   "execution_count": null,
   "metadata": {
    "slideshow": {
     "slide_type": "slide"
    }
   },
   "outputs": [],
   "source": [
    "# Dictionary\n",
    "\n",
    "x = {'a':1,'b':[2,3,4],'c':{'d':[1,2,3]}}"
   ]
  },
  {
   "cell_type": "code",
   "execution_count": null,
   "metadata": {},
   "outputs": [],
   "source": [
    "x['a']"
   ]
  },
  {
   "cell_type": "code",
   "execution_count": null,
   "metadata": {},
   "outputs": [],
   "source": [
    "x['c']['d']"
   ]
  },
  {
   "cell_type": "code",
   "execution_count": null,
   "metadata": {},
   "outputs": [],
   "source": [
    "x['e'] = 5 ## add new entry\n",
    "x"
   ]
  },
  {
   "cell_type": "markdown",
   "metadata": {
    "slideshow": {
     "slide_type": "slide"
    }
   },
   "source": [
    "* Pandas dataframe"
   ]
  },
  {
   "cell_type": "code",
   "execution_count": null,
   "metadata": {},
   "outputs": [],
   "source": [
    "import pandas as pd ## import the pandas library\n",
    "\n",
    "# show complete dataframe content\n",
    "pd.options.display.max_columns = None\n",
    "pd.options.display.max_rows = None\n",
    "pd.set_option('display.max_colwidth', -1)"
   ]
  },
  {
   "cell_type": "code",
   "execution_count": null,
   "metadata": {},
   "outputs": [],
   "source": [
    "df = pd.DataFrame({'name':['ABC','DEF','GHI','JKL'],'age':[20,30,40,50]}) # create from a dictionary\n",
    "df"
   ]
  },
  {
   "cell_type": "code",
   "execution_count": null,
   "metadata": {
    "scrolled": true
   },
   "outputs": [],
   "source": [
    "names = ['ABC','DEF','GHI','JKL']\n",
    "ages = [20,30,40,50]\n",
    "df = pd.DataFrame(zip(names,ages), columns=['name','ages'])\n",
    "df"
   ]
  },
  {
   "cell_type": "code",
   "execution_count": null,
   "metadata": {
    "slideshow": {
     "slide_type": "slide"
    }
   },
   "outputs": [],
   "source": [
    "df.loc[:,'name'] # slice by column name"
   ]
  },
  {
   "cell_type": "code",
   "execution_count": null,
   "metadata": {},
   "outputs": [],
   "source": [
    "df.iloc[:,0] # slice by column index"
   ]
  },
  {
   "cell_type": "code",
   "execution_count": null,
   "metadata": {},
   "outputs": [],
   "source": [
    "df.loc[df.name=='ABC'] # slice by condition"
   ]
  },
  {
   "cell_type": "code",
   "execution_count": null,
   "metadata": {},
   "outputs": [],
   "source": [
    "df.ages.describe()"
   ]
  },
  {
   "cell_type": "code",
   "execution_count": null,
   "metadata": {
    "slideshow": {
     "slide_type": "slide"
    }
   },
   "outputs": [],
   "source": [
    "df2 = pd.DataFrame({'name':['DEF','GHI','JKL'], 'hometown':['Atlanta, GA', 'Atlanta, GA', 'Knoxville, TN']})\n",
    "df2"
   ]
  },
  {
   "cell_type": "code",
   "execution_count": null,
   "metadata": {},
   "outputs": [],
   "source": [
    "df_combo = pd.concat([df,df2],axis=0,sort=False) # stack two dataframes\n",
    "df_combo"
   ]
  },
  {
   "cell_type": "code",
   "execution_count": null,
   "metadata": {},
   "outputs": [],
   "source": [
    "df_combo = pd.merge( # join dataframes\n",
    "    df,\n",
    "    df2,\n",
    "    on='name',\n",
    "    how='left'\n",
    ") ## Other tools are available to do sql like operation on dataframe (https://pypi.org/project/pandasql/)\n",
    "df_combo"
   ]
  },
  {
   "cell_type": "code",
   "execution_count": null,
   "metadata": {
    "slideshow": {
     "slide_type": "slide"
    }
   },
   "outputs": [],
   "source": [
    "df_combo"
   ]
  },
  {
   "cell_type": "code",
   "execution_count": null,
   "metadata": {},
   "outputs": [],
   "source": [
    "df_combo.groupby('hometown').size().reset_index() # simple statistics"
   ]
  },
  {
   "cell_type": "code",
   "execution_count": null,
   "metadata": {},
   "outputs": [],
   "source": [
    "df_combo.groupby(['name','hometown']).size().reset_index().rename(columns={0:'frequency'})"
   ]
  },
  {
   "cell_type": "code",
   "execution_count": null,
   "metadata": {},
   "outputs": [],
   "source": [
    "df_combo['num_pets'] = [1,2,2,3] # create a pivot table\n",
    "df_combo.pivot_table(\n",
    "    index='name',\n",
    "    columns='hometown',\n",
    "    values='num_pets',\n",
    "    aggfunc='sum'\n",
    ").fillna(0)"
   ]
  },
  {
   "cell_type": "markdown",
   "metadata": {
    "slideshow": {
     "slide_type": "slide"
    }
   },
   "source": [
    "* Function definition"
   ]
  },
  {
   "cell_type": "markdown",
   "metadata": {},
   "source": [
    "        Regular function"
   ]
  },
  {
   "cell_type": "code",
   "execution_count": null,
   "metadata": {},
   "outputs": [],
   "source": [
    "def helloworld(name):\n",
    "    print('My name is {}'.format(name))\n",
    "    # print('My name is %s' % name)\n",
    "\n",
    "helloworld('Bot')"
   ]
  },
  {
   "cell_type": "markdown",
   "metadata": {},
   "source": [
    "        Lambda function"
   ]
  },
  {
   "cell_type": "code",
   "execution_count": null,
   "metadata": {},
   "outputs": [],
   "source": [
    "helloworld2 = lambda name: print('My name is {}'.format(name))\n",
    "helloworld2('Robot')"
   ]
  },
  {
   "cell_type": "markdown",
   "metadata": {
    "slideshow": {
     "slide_type": "slide"
    }
   },
   "source": [
    "* Class definition"
   ]
  },
  {
   "cell_type": "code",
   "execution_count": null,
   "metadata": {},
   "outputs": [],
   "source": [
    "class table(object):\n",
    "    \"\"\"\n",
    "    Input table dimensions, calculate table properties    \n",
    "    Parameters\n",
    "    ----------\n",
    "    length: int, table length\n",
    "    width: int, table width\n",
    "    height: int, table height\n",
    "    \"\"\"\n",
    "    WHOAMI = 'A table'\n",
    "    def __init__(self, length, width, height):\n",
    "        self.length = length\n",
    "        self.width = width\n",
    "        self.height = height\n",
    "    def toparea(self):\n",
    "        return(self.length * self.width)"
   ]
  },
  {
   "cell_type": "code",
   "execution_count": null,
   "metadata": {},
   "outputs": [],
   "source": [
    "tb = table(2,3,4)\n",
    "tb = table(length=2, width=3, height=4)\n",
    "print(tb.WHOAMI)\n",
    "print(tb.length, tb.width, tb.height)\n",
    "print(tb.toparea())"
   ]
  },
  {
   "cell_type": "markdown",
   "metadata": {
    "slideshow": {
     "slide_type": "slide"
    }
   },
   "source": [
    "* Value assignment"
   ]
  },
  {
   "cell_type": "code",
   "execution_count": null,
   "metadata": {},
   "outputs": [],
   "source": [
    "a = 6\n",
    "a"
   ]
  },
  {
   "cell_type": "code",
   "execution_count": null,
   "metadata": {},
   "outputs": [],
   "source": [
    "b = a # creat a new copy\n",
    "b"
   ]
  },
  {
   "cell_type": "code",
   "execution_count": null,
   "metadata": {},
   "outputs": [],
   "source": [
    "a = [1,2,3]\n",
    "b = a # create a reference\n",
    "b"
   ]
  },
  {
   "cell_type": "code",
   "execution_count": null,
   "metadata": {},
   "outputs": [],
   "source": [
    "a[1] = 4\n",
    "b"
   ]
  },
  {
   "cell_type": "code",
   "execution_count": null,
   "metadata": {},
   "outputs": [],
   "source": [
    "table_a = table(2,3,4)\n",
    "table_b = table_a # create a reference\n",
    "table_a.length = 5\n",
    "table_b.length"
   ]
  },
  {
   "cell_type": "markdown",
   "metadata": {
    "slideshow": {
     "slide_type": "slide"
    }
   },
   "source": [
    "### 1.2. Control statement\n",
    "\n",
    "* Loop"
   ]
  },
  {
   "cell_type": "code",
   "execution_count": null,
   "metadata": {},
   "outputs": [],
   "source": [
    "for i in range(2): # i could be 0-2\n",
    "    print(i)"
   ]
  },
  {
   "cell_type": "code",
   "execution_count": null,
   "metadata": {},
   "outputs": [],
   "source": [
    "i = 0\n",
    "while i<3:\n",
    "    i+=1\n",
    "print(i)"
   ]
  },
  {
   "cell_type": "code",
   "execution_count": null,
   "metadata": {},
   "outputs": [],
   "source": [
    "## a better visualization!!\n",
    "from tqdm import trange\n",
    "import time\n",
    "\n",
    "a = 0\n",
    "for i in trange(100):\n",
    "    time.sleep(0.1)\n",
    "    a = a + 1\n",
    "print(a)"
   ]
  },
  {
   "cell_type": "markdown",
   "metadata": {
    "slideshow": {
     "slide_type": "slide"
    }
   },
   "source": [
    "* Condition structure"
   ]
  },
  {
   "cell_type": "code",
   "execution_count": null,
   "metadata": {},
   "outputs": [],
   "source": [
    "values = [1,2,3,4]\n",
    "for value in values:\n",
    "    if value%2==0:\n",
    "        print(value)"
   ]
  },
  {
   "cell_type": "code",
   "execution_count": null,
   "metadata": {},
   "outputs": [],
   "source": [
    "x = 5\n",
    "output = 1 if x<3 else 0 ## conditional value assignment\n",
    "output"
   ]
  },
  {
   "cell_type": "code",
   "execution_count": null,
   "metadata": {},
   "outputs": [],
   "source": [
    "## combination of loop and condition\n",
    "output = [\n",
    "    i\n",
    "    for i in trange(10) if i%2==0\n",
    "] # list comprehension\n",
    "output"
   ]
  },
  {
   "cell_type": "markdown",
   "metadata": {
    "slideshow": {
     "slide_type": "slide"
    }
   },
   "source": [
    "### 1.3. Package manager\n",
    "\n",
    "* pip (example)\n",
    "* conda"
   ]
  },
  {
   "cell_type": "markdown",
   "metadata": {},
   "source": [
    "### 1.4. Virtual Environment\n",
    "* virtualenv (example)\n",
    "* conda"
   ]
  },
  {
   "cell_type": "markdown",
   "metadata": {
    "slideshow": {
     "slide_type": "slide"
    }
   },
   "source": [
    "## 2. File Input/Output\n",
    "\n",
    "* Read a file\n",
    "    * President Trump's inauguration speech (2017)"
   ]
  },
  {
   "cell_type": "code",
   "execution_count": null,
   "metadata": {},
   "outputs": [],
   "source": [
    "with open('../data/trump_inauguration.txt','r') as f:\n",
    "    for index,line in enumerate(f.readlines()):\n",
    "        if index<4:\n",
    "            print(line)"
   ]
  },
  {
   "cell_type": "markdown",
   "metadata": {
    "slideshow": {
     "slide_type": "slide"
    }
   },
   "source": [
    "* Write to a file\n",
    "    * Example: Count word frequency and write result to a text file"
   ]
  },
  {
   "cell_type": "code",
   "execution_count": null,
   "metadata": {},
   "outputs": [],
   "source": [
    "## count the word frequency\n",
    "dict_freq = {}\n",
    "\n",
    "with open('../data/trump_inauguration.txt','r') as f:\n",
    "    for line in f.readlines():\n",
    "        words = line.lower().split()\n",
    "        for word in words:\n",
    "            word2 = word.strip('\"').strip(\"'\").replace(',','').replace('.','').replace(';','').replace('–','')\n",
    "            if len(word2)>0:\n",
    "                if dict_freq.get(word2,-10000)==-10000:\n",
    "                    dict_freq[word2]=1\n",
    "                else:\n",
    "                    dict_freq[word2]=dict_freq[word2]+1"
   ]
  },
  {
   "cell_type": "code",
   "execution_count": null,
   "metadata": {},
   "outputs": [],
   "source": [
    "## write to txt file\n",
    "with open('../data/word_count_out.csv','w') as f:\n",
    "    for key,value in dict_freq.items():\n",
    "        f.write('{word},{freq}\\n'.format(word=key,freq=value))"
   ]
  },
  {
   "cell_type": "code",
   "execution_count": null,
   "metadata": {},
   "outputs": [],
   "source": [
    "## check the file content\n",
    "import subprocess\n",
    "result = subprocess.check_output('head -5 ../data/word_count_out.csv',shell=True).decode('utf-8')\n",
    "print(result)"
   ]
  },
  {
   "cell_type": "markdown",
   "metadata": {
    "slideshow": {
     "slide_type": "slide"
    }
   },
   "source": [
    "* File analysis with Pandas dataframe\n",
    "    * Example: Find the most frequent words"
   ]
  },
  {
   "cell_type": "code",
   "execution_count": null,
   "metadata": {},
   "outputs": [],
   "source": [
    "df = pd.read_csv('../data/word_count_out.csv',sep=',',header=None,names=['word','freq'])\n",
    "df.head(3)"
   ]
  },
  {
   "cell_type": "code",
   "execution_count": null,
   "metadata": {},
   "outputs": [],
   "source": [
    "from sklearn.feature_extraction import stop_words\n",
    "df2 = df.loc[~df.word.isin(\n",
    "    stop_words.ENGLISH_STOP_WORDS\n",
    ")]"
   ]
  },
  {
   "cell_type": "code",
   "execution_count": null,
   "metadata": {},
   "outputs": [],
   "source": [
    "df2.sort_values(by='freq',ascending=False).head(10)"
   ]
  },
  {
   "cell_type": "markdown",
   "metadata": {
    "slideshow": {
     "slide_type": "slide"
    }
   },
   "source": [
    "## 3. Database Connection\n",
    "\n",
    "* Common tools\n",
    "    * pyodbc\n",
    "    * sqlalchemy\n",
    "    * ...\n",
    "* MySQL example\n",
    "    * library: mysqlclient (https://pypi.org/project/mysqlclient/)\n",
    "\n",
    "    ![title](../pics/mysql_query.png)"
   ]
  },
  {
   "cell_type": "code",
   "execution_count": null,
   "metadata": {
    "slideshow": {
     "slide_type": "slide"
    }
   },
   "outputs": [],
   "source": [
    "import MySQLdb\n",
    "import pandas as pd\n",
    "\n",
    "# create the database connection\n",
    "db = MySQLdb.connect(host=\"localhost\",\n",
    "                     user=\"test123\",\n",
    "                     passwd=\"1234\")\n",
    "# query database, get output as a dataframe\n",
    "df = pd.read_sql('select * from adhoc.word_count',db)"
   ]
  },
  {
   "cell_type": "code",
   "execution_count": null,
   "metadata": {
    "slideshow": {
     "slide_type": "slide"
    }
   },
   "outputs": [],
   "source": [
    "## another way\n",
    "# create a cursor to execute query\n",
    "cur = db.cursor()\n",
    "cur.execute(\"select * from adhoc.word_count\")\n",
    "result = list(cur.fetchall())\n",
    "df = pd.DataFrame(result,columns=['word','freq'])\n",
    "df.sort_values(by='freq',ascending=False).head(10)\n",
    "# remove the stop words\n",
    "from sklearn.feature_extraction import stop_words\n",
    "df2 = df.loc[~df.word.isin(\n",
    "    stop_words.ENGLISH_STOP_WORDS\n",
    ")]\n",
    "df2.sort_values(by='freq',ascending=False).head(10)"
   ]
  },
  {
   "cell_type": "markdown",
   "metadata": {
    "slideshow": {
     "slide_type": "slide"
    }
   },
   "source": [
    "## 4. Webpage crawling\n",
    "\n",
    "* Common tools\n",
    "    * requests, beautifulsoup, etc.\n",
    "    * regex match (re)\n",
    "* Example (www.advantage.com, grab all car rental location information)\n"
   ]
  },
  {
   "cell_type": "code",
   "execution_count": null,
   "metadata": {
    "scrolled": true,
    "slideshow": {
     "slide_type": "slide"
    }
   },
   "outputs": [],
   "source": [
    "from IPython.display import IFrame\n",
    "IFrame(\"https://www.advantage.com/us-location/\", width=1400, height=700)"
   ]
  },
  {
   "cell_type": "markdown",
   "metadata": {
    "slideshow": {
     "slide_type": "slide"
    }
   },
   "source": [
    "![title](../pics/html_locations.png)"
   ]
  },
  {
   "cell_type": "code",
   "execution_count": null,
   "metadata": {
    "slideshow": {
     "slide_type": "-"
    }
   },
   "outputs": [],
   "source": [
    "import urllib\n",
    "import re\n",
    "\n",
    "base = 'https://www.advantage.com/us-location/'\n",
    "res = urllib.request.urlopen(base)\n",
    "html = res.read().decode('utf-8')"
   ]
  },
  {
   "cell_type": "code",
   "execution_count": null,
   "metadata": {},
   "outputs": [],
   "source": [
    "## step 1: get all car rental locations\n",
    "airports = re.findall(\n",
    "    'fa fa\\-map\\-marker\" aria\\-hidden=\"true\"></i>\\s*?<p>(.*?)</p>',\n",
    "    html\n",
    ")\n",
    "airports[:5]"
   ]
  },
  {
   "cell_type": "markdown",
   "metadata": {
    "slideshow": {
     "slide_type": "slide"
    }
   },
   "source": [
    "![title](../pics/html_locations.png)"
   ]
  },
  {
   "cell_type": "code",
   "execution_count": null,
   "metadata": {
    "scrolled": true,
    "slideshow": {
     "slide_type": "-"
    }
   },
   "outputs": [],
   "source": [
    "## step 2: get all page links for car rental locations\n",
    "paths = re.findall(\n",
    "    'href=\"?(.*)\"\\s*class=\"aez-icon-location\"',\n",
    "    html\n",
    ")\n",
    "paths[:5]"
   ]
  },
  {
   "cell_type": "markdown",
   "metadata": {
    "slideshow": {
     "slide_type": "slide"
    }
   },
   "source": [
    "![title](../pics/html_address.png)"
   ]
  },
  {
   "cell_type": "code",
   "execution_count": null,
   "metadata": {},
   "outputs": [],
   "source": [
    "## step 3: get the address\n",
    "paths_full = [\n",
    "    base + path.split('/')[-1]\n",
    "    for path in paths\n",
    "]\n",
    "paths_full[:3]"
   ]
  },
  {
   "cell_type": "code",
   "execution_count": null,
   "metadata": {},
   "outputs": [],
   "source": [
    "path2search = 'https://www.advantage.com/us-location/phoenix-sky-harbor-airport-phx'\n",
    "html = urllib.request.urlopen(path2search).read().decode('utf-8')\n",
    "address = re.findall('Address:</h4>\\s*<p class=\"aez\\-info\\-text\">(.*?)<br>(.*?)<br>',html)\n",
    "address"
   ]
  },
  {
   "cell_type": "markdown",
   "metadata": {
    "slideshow": {
     "slide_type": "slide"
    }
   },
   "source": [
    "## 5. Data Visualization"
   ]
  },
  {
   "cell_type": "markdown",
   "metadata": {},
   "source": [
    "* Common tools:\n",
    "    * Matplotlib\n",
    "    * Seaborn\n",
    "    * ggplot\n",
    "    * plotly\n",
    "    * ...\n",
    "    ![title](../pics/pyplot.png)"
   ]
  },
  {
   "cell_type": "markdown",
   "metadata": {
    "slideshow": {
     "slide_type": "slide"
    }
   },
   "source": [
    "* 5.1. X-Y plot"
   ]
  },
  {
   "cell_type": "code",
   "execution_count": null,
   "metadata": {},
   "outputs": [],
   "source": [
    "import matplotlib.pyplot as plt\n",
    "import numpy as np\n",
    "\n",
    "plt.figure(figsize=(5,3))\n",
    "x = np.arange(0,10,0.1)\n",
    "y = np.sin(x)\n",
    "plt.plot(x,y,linestyle='--',color='blue')\n",
    "plt.show()"
   ]
  },
  {
   "cell_type": "code",
   "execution_count": null,
   "metadata": {},
   "outputs": [],
   "source": [
    "plt.figure(figsize=(10,3))\n",
    "y2 = np.exp(-x/2)\n",
    "plt.subplot(1,2,1)\n",
    "plt.plot(x,y,linestyle='--',color='blue')\n",
    "plt.subplot(1,2,2)\n",
    "plt.plot(x,y2,linestyle='-',color='red')\n",
    "plt.show()"
   ]
  },
  {
   "cell_type": "markdown",
   "metadata": {
    "slideshow": {
     "slide_type": "slide"
    }
   },
   "source": [
    "* 5.2. Bar chart"
   ]
  },
  {
   "cell_type": "code",
   "execution_count": null,
   "metadata": {
    "scrolled": true
   },
   "outputs": [],
   "source": [
    "x = ['China','India','USA','Russia','Japan']\n",
    "y = [1394710000,\n",
    "     1344100000,\n",
    "     328779000,\n",
    "     146793744,\n",
    "     126330000\n",
    "    ] # data from wikipedia\n",
    "plt.bar(\n",
    "    x = x,\n",
    "    height=y,\n",
    "    width=0.5\n",
    ")\n",
    "# plt.yticks(\n",
    "#     np.arange(0,1.4e9,0.2e9),\n",
    "#     ['{:,.0f}'.format(value) for value in np.arange(0,1.4e9,0.2e9)]\n",
    "# )\n",
    "plt.show()"
   ]
  },
  {
   "cell_type": "code",
   "execution_count": null,
   "metadata": {},
   "outputs": [],
   "source": []
  },
  {
   "cell_type": "markdown",
   "metadata": {
    "slideshow": {
     "slide_type": "slide"
    }
   },
   "source": [
    "* 5.3. Histogram"
   ]
  },
  {
   "cell_type": "code",
   "execution_count": null,
   "metadata": {
    "scrolled": true
   },
   "outputs": [],
   "source": [
    "y = np.random.randn(1000)\n",
    "plt.hist(y,bins=100,cumulative=False)\n",
    "plt.show()"
   ]
  },
  {
   "cell_type": "code",
   "execution_count": null,
   "metadata": {},
   "outputs": [],
   "source": [
    "x = np.arange(-3,3,0.01)\n",
    "y2 = (1/np.sqrt(2*np.pi))*np.exp(-x**2/2)\n",
    "plt.hist(y,bins=100,cumulative=False,density=True,label='hist')\n",
    "plt.plot(x,y2,label='pdf')\n",
    "plt.legend()\n",
    "plt.show()"
   ]
  },
  {
   "cell_type": "markdown",
   "metadata": {
    "slideshow": {
     "slide_type": "slide"
    }
   },
   "source": [
    "* 5.4. Heatmap\n",
    "    * Example: Faked movie rating data"
   ]
  },
  {
   "cell_type": "code",
   "execution_count": null,
   "metadata": {},
   "outputs": [],
   "source": [
    "import random\n",
    "movies = ['Avatar','Pirates of the Caribbean','Star Wars','Spider-Man','The Avengers']\n",
    "users = [''.join(random.sample('abcdefghijklmnopqrstuvwxyz',5)) for i in range(5)]\n",
    "ratings = np.array([\n",
    "    random.sample(np.arange(1,5,0.5).tolist(),5)\n",
    "    for i in range(5)\n",
    "])\n",
    "# ratings[:2,]"
   ]
  },
  {
   "cell_type": "code",
   "execution_count": null,
   "metadata": {},
   "outputs": [],
   "source": [
    "plt.imshow(ratings)\n",
    "\n",
    "for i in range(len(users)):\n",
    "    for j in range(len(movies)):\n",
    "        plt.text(j, i, ratings[i, j],\n",
    "                       ha=\"center\", va=\"center\", color=\"w\")\n",
    "\n",
    "plt.xticks(range(5),users)\n",
    "plt.yticks(range(5),movies)\n",
    "plt.colorbar()\n",
    "plt.show()"
   ]
  },
  {
   "cell_type": "markdown",
   "metadata": {
    "slideshow": {
     "slide_type": "slide"
    }
   },
   "source": [
    "* 5.5. Visualization on geolocation map\n",
    "    * Common tools\n",
    "        * folium (https://github.com/python-visualization/folium)\n",
    "        * gmplot (https://github.com/vgm64/gmplot)"
   ]
  },
  {
   "cell_type": "code",
   "execution_count": null,
   "metadata": {
    "slideshow": {
     "slide_type": "slide"
    }
   },
   "outputs": [],
   "source": [
    "import folium\n",
    "georgia = [\n",
    "    (34.992756,-85.625226),\n",
    "    (30.721736,-84.926279),\n",
    "    (30.589405,-81.492173),\n",
    "    (32.016373,-80.817001),\n",
    "    (34.992871,-83.101132),\n",
    "    (34.992756,-85.625226)\n",
    "]\n",
    "m = folium.Map([30.909508, -84.355094], zoom_start=6, height='60%')\n",
    "folium.PolyLine(georgia).add_to(m)\n",
    "m"
   ]
  },
  {
   "cell_type": "code",
   "execution_count": null,
   "metadata": {
    "slideshow": {
     "slide_type": "slide"
    }
   },
   "outputs": [],
   "source": [
    "locations = [\n",
    "    (38.347, -77.488),\n",
    "    (33.62, -84.499),\n",
    "    (40.885999999999996, -81.566),\n",
    "    (33.865, -117.84100000000001),\n",
    "    (34.202, -118.402)\n",
    "]\n",
    "names = ['abc','def','ghi','jkl','mno']\n",
    "\n",
    "m = folium.Map([34.909508, -89.355094], zoom_start=5, height='50%')\n",
    "\n",
    "# mark all locations\n",
    "for index,location in enumerate(locations):\n",
    "    folium.Marker(\n",
    "        [location[0], location[1]],\n",
    "        popup=folium.Popup(names[index],parse_html=True),\n",
    "        icon=folium.Icon(color='red')\n",
    "    ).add_to(m)\n",
    "m"
   ]
  },
  {
   "cell_type": "markdown",
   "metadata": {
    "slideshow": {
     "slide_type": "slide"
    }
   },
   "source": [
    "## 6. Model Fitting Examples"
   ]
  },
  {
   "cell_type": "markdown",
   "metadata": {
    "slideshow": {
     "slide_type": "slide"
    }
   },
   "source": [
    "* 6.1. Linear Regression (diabetes data)\n",
    "    ![title](../pics/diabetes_data.png)"
   ]
  },
  {
   "cell_type": "code",
   "execution_count": null,
   "metadata": {
    "slideshow": {
     "slide_type": "slide"
    }
   },
   "outputs": [],
   "source": [
    "from sklearn import datasets"
   ]
  },
  {
   "cell_type": "code",
   "execution_count": null,
   "metadata": {},
   "outputs": [],
   "source": [
    "diabetes = datasets.load_diabetes()"
   ]
  },
  {
   "cell_type": "code",
   "execution_count": null,
   "metadata": {},
   "outputs": [],
   "source": [
    "diabetes['data'].shape"
   ]
  },
  {
   "cell_type": "code",
   "execution_count": null,
   "metadata": {},
   "outputs": [],
   "source": [
    "diabetes['target'].shape"
   ]
  },
  {
   "cell_type": "code",
   "execution_count": null,
   "metadata": {},
   "outputs": [],
   "source": [
    "diabetes['feature_names']"
   ]
  },
  {
   "cell_type": "code",
   "execution_count": null,
   "metadata": {
    "slideshow": {
     "slide_type": "slide"
    }
   },
   "outputs": [],
   "source": [
    "import pandas as pd\n",
    "\n",
    "df = pd.DataFrame(diabetes['data'],columns=diabetes['feature_names'])\n",
    "df['target'] = diabetes['target']\n",
    "df.head(3)"
   ]
  },
  {
   "cell_type": "code",
   "execution_count": null,
   "metadata": {},
   "outputs": [],
   "source": [
    "df.corr()"
   ]
  },
  {
   "cell_type": "code",
   "execution_count": null,
   "metadata": {},
   "outputs": [],
   "source": [
    "df_x = df.loc[:,['bmi']]\n",
    "df_y = df.loc[:,'target']"
   ]
  },
  {
   "cell_type": "code",
   "execution_count": null,
   "metadata": {
    "slideshow": {
     "slide_type": "slide"
    }
   },
   "outputs": [],
   "source": [
    "from sklearn.model_selection import train_test_split\n",
    "x_train,x_test,y_train,y_test = train_test_split(df_x,df_y,test_size=0.3,random_state=123)"
   ]
  },
  {
   "cell_type": "code",
   "execution_count": null,
   "metadata": {},
   "outputs": [],
   "source": [
    "from sklearn.linear_model import LinearRegression\n",
    "lr = LinearRegression(fit_intercept=True, normalize=False, copy_X=True, n_jobs=None)"
   ]
  },
  {
   "cell_type": "code",
   "execution_count": null,
   "metadata": {},
   "outputs": [],
   "source": [
    "lr.fit(x_train,y_train)\n",
    "lr.coef_, lr.intercept_"
   ]
  },
  {
   "cell_type": "code",
   "execution_count": null,
   "metadata": {},
   "outputs": [],
   "source": [
    "lr.score(x_train,y_train) # R2 value"
   ]
  },
  {
   "cell_type": "code",
   "execution_count": null,
   "metadata": {},
   "outputs": [],
   "source": [
    "import numpy as np\n",
    "y_test_hat = lr.predict(x_test)\n",
    "MSE = np.mean((y_test_hat-y_test)**2)\n",
    "R2 = lr.score(x_test,y_test)\n",
    "print('''\n",
    "MSE:{}\n",
    "R2:{}\n",
    "'''.format(MSE,R2))"
   ]
  },
  {
   "cell_type": "code",
   "execution_count": null,
   "metadata": {
    "slideshow": {
     "slide_type": "slide"
    }
   },
   "outputs": [],
   "source": [
    "import matplotlib.pyplot as plt\n",
    "plt.figure(figsize=(20,5))\n",
    "plt.subplot(1,2,1)\n",
    "plt.plot(x_train['bmi'],y_train,'ro',label='raw-train')\n",
    "plt.plot(x_train['bmi'],lr.predict(x_train),label='fit-train')\n",
    "plt.legend()\n",
    "plt.subplot(1,2,2)\n",
    "plt.plot(x_test['bmi'],y_test,'go',label='raw-test')\n",
    "plt.plot(x_test['bmi'],y_test_hat,label='fit-test')\n",
    "plt.legend()\n",
    "plt.show()"
   ]
  },
  {
   "cell_type": "code",
   "execution_count": null,
   "metadata": {},
   "outputs": [],
   "source": []
  },
  {
   "cell_type": "markdown",
   "metadata": {
    "slideshow": {
     "slide_type": "slide"
    }
   },
   "source": [
    "* 6.2. k-Means (Iris dataset)\n",
    "    ![title](../pics/iris_data.png)"
   ]
  },
  {
   "cell_type": "code",
   "execution_count": null,
   "metadata": {
    "slideshow": {
     "slide_type": "slide"
    }
   },
   "outputs": [],
   "source": [
    "from sklearn import datasets\n",
    "import matplotlib.pyplot as plt\n",
    "import pandas as pd\n",
    "import numpy as np\n",
    "iris = datasets.load_iris()"
   ]
  },
  {
   "cell_type": "code",
   "execution_count": null,
   "metadata": {},
   "outputs": [],
   "source": [
    "iris['feature_names']"
   ]
  },
  {
   "cell_type": "code",
   "execution_count": null,
   "metadata": {},
   "outputs": [],
   "source": [
    "iris['target_names']"
   ]
  },
  {
   "cell_type": "code",
   "execution_count": null,
   "metadata": {},
   "outputs": [],
   "source": [
    "iris['data'][:3,]"
   ]
  },
  {
   "cell_type": "code",
   "execution_count": null,
   "metadata": {},
   "outputs": [],
   "source": [
    "iris['target']"
   ]
  },
  {
   "cell_type": "code",
   "execution_count": null,
   "metadata": {
    "slideshow": {
     "slide_type": "slide"
    }
   },
   "outputs": [],
   "source": [
    "from sklearn.cluster import KMeans\n",
    "\n",
    "withincluster_ssd = []\n",
    "## use elbow plot to determine the ideal number of clusters\n",
    "for i in range(1,11):\n",
    "    km = KMeans(n_clusters=i)\n",
    "    km.fit(iris['data'])\n",
    "    withincluster_ssd.append(km.inertia_)\n",
    "## generate the elbow plot\n",
    "plt.plot(list(range(1,11)),withincluster_ssd)\n",
    "plt.vlines(x=3,ymin=0,ymax=600,linestyles='dashed')\n",
    "plt.show()"
   ]
  },
  {
   "cell_type": "code",
   "execution_count": null,
   "metadata": {
    "slideshow": {
     "slide_type": "slide"
    }
   },
   "outputs": [],
   "source": [
    "kmeans = KMeans(n_clusters = 3)\n",
    "y_kmeans = kmeans.fit_predict(iris['data']) #setosa,versicolor,virginica"
   ]
  },
  {
   "cell_type": "code",
   "execution_count": null,
   "metadata": {},
   "outputs": [],
   "source": [
    "#Visualise the cluster distribution\n",
    "index_x = 0\n",
    "index_y = 1\n",
    "setosa = [iris['data'][y_kmeans==0,index_x],iris['data'][y_kmeans==0,index_y]]\n",
    "versicolor = [iris['data'][y_kmeans==1,index_x],iris['data'][y_kmeans==1,index_y]]\n",
    "virginica = [iris['data'][y_kmeans==2,index_x],iris['data'][y_kmeans==2,index_y]]\n",
    "plt.plot(setosa[0],setosa[1],'ro',label='setosa')\n",
    "plt.plot(versicolor[0],versicolor[1],'go',label='versicolor')\n",
    "plt.plot(virginica[0],virginica[1],'bo',label='virginica')\n",
    "plt.legend()\n",
    "plt.show()"
   ]
  },
  {
   "cell_type": "code",
   "execution_count": null,
   "metadata": {},
   "outputs": [],
   "source": []
  }
 ],
 "metadata": {
  "celltoolbar": "Slideshow",
  "kernelspec": {
   "display_name": "Python 3",
   "language": "python",
   "name": "python3"
  },
  "language_info": {
   "codemirror_mode": {
    "name": "ipython",
    "version": 3
   },
   "file_extension": ".py",
   "mimetype": "text/x-python",
   "name": "python",
   "nbconvert_exporter": "python",
   "pygments_lexer": "ipython3",
   "version": "3.7.2"
  }
 },
 "nbformat": 4,
 "nbformat_minor": 2
}
